{
 "cells": [
  {
   "cell_type": "code",
   "execution_count": 155,
   "metadata": {},
   "outputs": [],
   "source": [
    "import dlib\n",
    "import cv2\n",
    "from imutils import face_utils\n",
    "from scipy.spatial import distance as dist\n",
    "from threading import Thread\n",
    "import numpy as np\n",
    "import time"
   ]
  },
  {
   "cell_type": "code",
   "execution_count": 156,
   "metadata": {},
   "outputs": [],
   "source": [
    "def eye_aspect_ratio(eye):\n",
    "    dist1=dist.euclidean(eye[0],eye[5])\n",
    "    dist2=dist.euclidean(eye[2],eye[4])\n",
    "    dist3=dist.euclidean(eye[0],eye[3])\n",
    "    ear=(dist1+dist2)/dist3\n",
    "    return ear"
   ]
  },
  {
   "cell_type": "code",
   "execution_count": 157,
   "metadata": {},
   "outputs": [],
   "source": [
    "def eye(eye):\n",
    "    (right_eye1,right_eye2)=face_utils.FACIAL_LANDMARKS_IDXS['right_eye']\n",
    "    (left_eye1,left_eye2)=face_utils.FACIAL_LANDMARKS_IDXS['left_eye']\n",
    "    right_eye=eye[right_eye1:right_eye2]\n",
    "    right_ear=eye_aspect_ratio(right_eye)\n",
    "    left_eye=eye[left_eye1:left_eye2]\n",
    "    left_ear=eye_aspect_ratio(left_eye)\n",
    "    total_ear=(right_ear+left_ear)/2\n",
    "    return (total_ear,right_eye,left_eye)"
   ]
  },
  {
   "cell_type": "code",
   "execution_count": 158,
   "metadata": {},
   "outputs": [],
   "source": [
    "def lip_dist(shape):\n",
    "    (inner1,inner2)=face_utils.FACIAL_LANDMARKS_IDXS['inner_mouth']\n",
    "    (outer1,outer2)=face_utils.FACIAL_LANDMARKS_IDXS['mouth']\n",
    "    upper_lips=shape[61:65]\n",
    "    lower_lips=shape[65:68]\n",
    "    upper_corr=[]\n",
    "    lower_corr=[]\n",
    "    for i in upper_lips:\n",
    "        upper_corr.append(i[1])\n",
    "    for i in lower_lips:\n",
    "        lower_corr.append(i[1])\n",
    "    upper_lip_mean=np.mean(upper_corr)\n",
    "    lower_lip_mean=np.mean(lower_corr)\n",
    "    diff=abs(upper_lip_mean-lower_lip_mean)\n",
    "    return diff"
   ]
  },
  {
   "cell_type": "code",
   "execution_count": 159,
   "metadata": {},
   "outputs": [],
   "source": [
    "cap=cv2.VideoCapture(0)\n",
    "detector=dlib.get_frontal_face_detector()\n",
    "predictor=dlib.shape_predictor('shape_predictor_68_face_landmarks.dat')"
   ]
  },
  {
   "cell_type": "code",
   "execution_count": 160,
   "metadata": {},
   "outputs": [],
   "source": [
    "count=0\n",
    "count1=0\n",
    "while True:\n",
    "    ret,frame=cap.read()\n",
    "    grey=cv2.cvtColor(frame,cv2.COLOR_BGR2GRAY)\n",
    "    face=detector(grey)\n",
    "    for i in face:\n",
    "        landmark=predictor(grey,i)\n",
    "        shape=face_utils.shape_to_np(landmark)\n",
    "        ear,right_eye,left_eye=eye(shape)\n",
    "        lip_dis=lip_dist(shape)\n",
    "        if ear<0.6:\n",
    "            if count==0:\n",
    "                start_time=time.time()\n",
    "            count+=1\n",
    "            stop_time=time.time()\n",
    "            if abs(start_time-stop_time)>4:\n",
    "                cv2.putText(frame,'Drowsiness alert!!!',(30,50),cv2.FONT_ITALIC,0.5,(0,255,0),1)\n",
    "        else:\n",
    "            count=0\n",
    "        #cv2.putText(frame,'Drowsiness alert!!!'+str(abs(start_time-stop_time)),(30,50),cv2.FONT_ITALIC,0.5,(0,255,0),1)\n",
    "        if lip_dis>12:\n",
    "            if count1==0:\n",
    "                start_time1=time.time()\n",
    "            stop_time1=time.time()\n",
    "            count1+=1\n",
    "            if abs(start_time1-stop_time1)>2:\n",
    "                cv2.putText(frame,'Yawn alert!!!',(50,70),cv2.FONT_ITALIC,0.5,(0,255,0),2)\n",
    "        else:\n",
    "            count1=0\n",
    "        #cv2.putText(frame,'Yawn alert!!!'+str(abs(start_time1)),(50,70),cv2.FONT_ITALIC,0.5,(0,255,0),1)\n",
    "        lip_corr=shape[60:68]\n",
    "        right_eye_hull=cv2.convexHull(right_eye)\n",
    "        left_eye_hull=cv2.convexHull(left_eye)\n",
    "        cv2.drawContours(frame,[right_eye_hull],-1,(0,255,0),2)\n",
    "        cv2.drawContours(frame,[left_eye_hull],-1,(0,255,0),2)\n",
    "        cv2.drawContours(frame,[lip_corr],-1,(0,255,255),2)\n",
    "        cv2.putText(frame,f'Ear:{ear} and lip dist:{lip_dis}',(10,30),cv2.FONT_ITALIC,0.5,(0,255,0),1)\n",
    "        cv2.imshow('output',frame)\n",
    "    if cv2.waitKey(10)==13:\n",
    "        break\n",
    "cap.release()\n",
    "cv2.destroyAllWindows()"
   ]
  },
  {
   "cell_type": "code",
   "execution_count": null,
   "metadata": {},
   "outputs": [],
   "source": []
  },
  {
   "cell_type": "code",
   "execution_count": null,
   "metadata": {},
   "outputs": [],
   "source": []
  }
 ],
 "metadata": {
  "kernelspec": {
   "display_name": "Python 3",
   "language": "python",
   "name": "python3"
  },
  "language_info": {
   "codemirror_mode": {
    "name": "ipython",
    "version": 3
   },
   "file_extension": ".py",
   "mimetype": "text/x-python",
   "name": "python",
   "nbconvert_exporter": "python",
   "pygments_lexer": "ipython3",
   "version": "3.8.3"
  }
 },
 "nbformat": 4,
 "nbformat_minor": 4
}
